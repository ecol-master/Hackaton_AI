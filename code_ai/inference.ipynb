{
 "cells": [
  {
   "cell_type": "code",
   "execution_count": 1,
   "id": "3fe70c5e-8fd9-42d6-8a37-31f5199884d9",
   "metadata": {
    "tags": []
   },
   "outputs": [
    {
     "name": "stdout",
     "output_type": "stream",
     "text": [
      "Внимание! Обнаружен дефект доржного покрытия типа: 1. Данные геолокации: 2353456345345:345345345345\n"
     ]
    },
    {
     "name": "stderr",
     "output_type": "stream",
     "text": [
      "/home/funtik/anaconda3/lib/python3.11/site-packages/sklearn/base.py:439: UserWarning: X does not have valid feature names, but PCA was fitted with feature names\n",
      "  warnings.warn(\n"
     ]
    }
   ],
   "source": [
    "import pandas as pd\n",
    "import numpy as np\n",
    "import pickle\n",
    "\n",
    "from sklearn.decomposition import PCA\n",
    "from sklearn.preprocessing import StandardScaler\n",
    "\n",
    "with open('models/bin_cls_RF.pkl', 'rb') as f:\n",
    "    bin_cls_RF = pickle.load(f)\n",
    "\n",
    "with open('models/clustering_KMeans.pkl', 'rb') as f:\n",
    "    clustering_KMeans = pickle.load(f)\n",
    "    \n",
    "with open('models/pca_binary_cls.pkl', 'rb') as f:\n",
    "    pca = pickle.load(f)    \n",
    "\n",
    "    \n",
    "geo = '2353456345345:345345345345'\n",
    "\n",
    "with open('points_pit_1', 'r') as points_clean_file:\n",
    "    points_clean = points_clean_file.readlines()\n",
    "\n",
    "secs = []\n",
    "points = []\n",
    "\n",
    "for i in range(len(points_clean)-1):\n",
    "    if points_clean[i].strip().startswith(\"sec:\"):\n",
    "        temp_sec = points_clean[i].strip()[5:]\n",
    "        secs.append(temp_sec)\n",
    "    if points_clean[i].strip().startswith(\"data:\"):\n",
    "        points.append([points_clean[i+a+1].strip()[2:] for a in range(128)])\n",
    "\n",
    "             \n",
    "points = pd.DataFrame(points)\n",
    "\n",
    "points_std = StandardScaler().fit_transform(points)\n",
    "scaled_points = pd.DataFrame(points_std, index=points.index, columns=points.columns)\n",
    "\n",
    "principalComponents = pca.transform(scaled_points)\n",
    "predict = bin_cls_RF.predict(principalComponents)\n",
    "\n",
    "if predict[10] == 0:\n",
    "    print('Дефектов дорожного покрытия не обнаружено')\n",
    "\n",
    "else:\n",
    "    claster = clustering_KMeans.predict(principalComponents)\n",
    "    print(f'Внимание! Обнаружен дефект доржного покрытия типа: {claster[10]}. Данные геолокации: {geo}')"
   ]
  }
 ],
 "metadata": {
  "kernelspec": {
   "display_name": "Python 3 (ipykernel)",
   "language": "python",
   "name": "python3"
  },
  "language_info": {
   "codemirror_mode": {
    "name": "ipython",
    "version": 3
   },
   "file_extension": ".py",
   "mimetype": "text/x-python",
   "name": "python",
   "nbconvert_exporter": "python",
   "pygments_lexer": "ipython3",
   "version": "3.11.3"
  }
 },
 "nbformat": 4,
 "nbformat_minor": 5
}
